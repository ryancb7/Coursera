{
 "cells": [
  {
   "cell_type": "markdown",
   "metadata": {},
   "source": [
    "# Ideal Places to Work\n",
    "## Segmenting and Clustering Universities in Manhattan"
   ]
  },
  {
   "cell_type": "markdown",
   "metadata": {},
   "source": [
    "## Introduction/Business Problem"
   ]
  },
  {
   "cell_type": "markdown",
   "metadata": {},
   "source": [
    "Manhattan provides abundant opportunities for New Yorkers to pursue administrative careers in higher education, including positions at community colleges, research universities, and professional schools. And while Manhattan is the largest metropolis in the United States, its neighborhoods are diverse and each offers the spectrum of dining, entertainment, and fitness options. At some universities, countless restaurants, coffee shops, bars, and gyms are located just outside the campus gates. At others, faculty, students, and employees are stricken to very limited venue options located within walking distance.\n",
    "\n",
    "We expect that prospective employees will consider the venue options located in the surrounding neighborhoods when applying to administrative positions. However, it is unrealistic to expect that applicants will have familiarity with all universities and surrounding neighborhoods when they submit applications. This paper will address this concern by clustering Manhattan's various private and public universities by the most common venues located within walking distance of campus. The reason for focusing on four-year universities is that they attract a majority of Manhattan's prospective administrative employees."
   ]
  },
  {
   "cell_type": "markdown",
   "metadata": {},
   "source": [
    "## Data"
   ]
  },
  {
   "cell_type": "markdown",
   "metadata": {},
   "source": [
    "Unfortunately, there is not a readily available dataset containing the geographic coordinates of Manhattan’s four-year universities. As such, I will create my own dataset by inputing Google Map's coordinates of 21 Manhattan universities. I will also utilize the Foursquare API to explore the most common venue options located near each university. In order to capture the walking distance of a typical employee, I will establish a radius of 500 meters from each campus. Moreover, since Manhattan is such a large metropolis, I will design the limit of venues to 100 for each neighborhood.\n",
    "\n",
    "The collected data will be used to cluster institutions by the top 10 most common venues. This will enable prospective employees to gauge what universities offer comparable dining, entertainment, and fitness options. It will also provide a glimpse of universities that provide limited options for employees."
   ]
  },
  {
   "cell_type": "code",
   "execution_count": null,
   "metadata": {},
   "outputs": [],
   "source": []
  }
 ],
 "metadata": {
  "kernelspec": {
   "display_name": "Python",
   "language": "python",
   "name": "conda-env-python-py"
  },
  "language_info": {
   "codemirror_mode": {
    "name": "ipython",
    "version": 3
   },
   "file_extension": ".py",
   "mimetype": "text/x-python",
   "name": "python",
   "nbconvert_exporter": "python",
   "pygments_lexer": "ipython3",
   "version": "3.6.7"
  }
 },
 "nbformat": 4,
 "nbformat_minor": 4
}
