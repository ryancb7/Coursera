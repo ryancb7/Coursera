{
 "cells": [
  {
   "cell_type": "markdown",
   "metadata": {},
   "source": [
    "<h1 align=center><font size = 5>Ideal Places to Work</font></h1>\n",
    "<h2 align=center><font size = 4>Segmenting and Clustering Higher Education Institutions in Manhattan</font></h2>"
   ]
  },
  {
   "cell_type": "markdown",
   "metadata": {},
   "source": [
    "## Introduction/Business Problem"
   ]
  },
  {
   "cell_type": "markdown",
   "metadata": {},
   "source": [
    "## Introduction/Business Problem"
   ]
  },
  {
   "cell_type": "markdown",
   "metadata": {},
   "source": [
    "Manhattan provides abundant administrative opportunities for New Yorkers to work in higher education, including positions at numerous community colleges, research universities, and professional schools. And while Manhattan is the largest metropolis in the United States, its neighborhoods are diverse and offer a wide range of dining, entertainment, and fitness options, among others. At some institutions, countless restaurants, coffee shops, bars, and gyms are located just outside the campus gates. At others, faculty, students, and employees are stricken to very limited venue options within walking distance.\n",
    "\n",
    "When we think of someone who is interested in an administrative position at a Manhattan higher education institution, we expect that he or she will consider the venue options in the surrounding neighborhood.  It can be argued that this consideration will lead to greater happiness and a stronger work-life balance. However, unless this person is familiar with every higher education institution in Manhattan, he or she may not realize that venue options are not evenly concentrated and represented.\n",
    "\n",
    "Given that there are so many different higher education options at Manhattan, I am focusing my efforts on private and public institutions that offer undergraduate degrees. The logic behind this is that these four-year institutions attract the most prospective administrative employees."
   ]
  },
  {
   "cell_type": "markdown",
   "metadata": {},
   "source": [
    "## Data"
   ]
  },
  {
   "cell_type": "markdown",
   "metadata": {},
   "source": [
    "Unfortunately, there is not a readily available dataset with the geographic coordinates for Manhattan’s institutions of higher education. As such, I will create my own dataset using coordinates for 21 Manhattan institutions using Google Map. A preview of the corresponding dataframe is below.\n",
    "\n",
    "I will be utilizing the Foursquare API to explore the most common venue options at each institution’s surrounding neighborhood.  In order to capture walking distances of typical employees, I will establish a radius of 500 meters from each institution. Since Manhattan is such a large metropolis, I will design the limit to 100 venues.   A preview of the dataframe that merges the institution’s coordinates and the Foursquare venues is below.\n",
    "\n",
    "The collected data will be used to cluster institutions by the top 10 most common venues. This will enable prospective employees to gauge what institutions offer similar dining, entertainment, and fitness options. It will also provide a glimpse of institutions that may provide limited options."
   ]
  },
  {
   "cell_type": "code",
   "execution_count": null,
   "metadata": {},
   "outputs": [],
   "source": []
  }
 ],
 "metadata": {
  "kernelspec": {
   "display_name": "Python",
   "language": "python",
   "name": "conda-env-python-py"
  },
  "language_info": {
   "codemirror_mode": {
    "name": "ipython",
    "version": 3
   },
   "file_extension": ".py",
   "mimetype": "text/x-python",
   "name": "python",
   "nbconvert_exporter": "python",
   "pygments_lexer": "ipython3",
   "version": "3.6.7"
  }
 },
 "nbformat": 4,
 "nbformat_minor": 4
}
